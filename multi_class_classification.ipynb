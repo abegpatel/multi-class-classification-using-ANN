{
  "nbformat": 4,
  "nbformat_minor": 0,
  "metadata": {
    "colab": {
      "name": "multi-class-classification.ipynb",
      "provenance": [],
      "authorship_tag": "ABX9TyMExdI7Ddf5g1OpABsT/Wsr",
      "include_colab_link": true
    },
    "kernelspec": {
      "name": "python3",
      "display_name": "Python 3"
    },
    "accelerator": "GPU"
  },
  "cells": [
    {
      "cell_type": "markdown",
      "metadata": {
        "id": "view-in-github",
        "colab_type": "text"
      },
      "source": [
        "<a href=\"https://colab.research.google.com/github/abegpatel/multi-class-classification-using-ANN/blob/master/multi_class_classification.ipynb\" target=\"_parent\"><img src=\"https://colab.research.google.com/assets/colab-badge.svg\" alt=\"Open In Colab\"/></a>"
      ]
    },
    {
      "cell_type": "code",
      "metadata": {
        "id": "49h3DHDZRGo1",
        "colab_type": "code",
        "colab": {}
      },
      "source": [
        "#multiclass classification\n",
        "#soft mAX\n",
        "import numpy as np\n",
        "import keras\n",
        "from sklearn import datasets\n",
        "import matplotlib.pyplot as plt\n",
        "from keras.models import Sequential\n",
        "from keras.layers import Dense\n",
        "from keras.optimizers import Adam\n",
        "from keras.utils.np_utils import to_categorical\n",
        " \n",
        "n_pts = 500\n",
        "centers = [[-1, 1], [-1, -1], [1, -1], [1, 1], [0, 0]]\n",
        "X, y = datasets.make_blobs(n_samples=n_pts, random_state = 123, centers=centers, cluster_std=0.4)\n",
        " \n",
        "plt.scatter(X[y==0, 0], X[y==0, 1])\n",
        "plt.scatter(X[y==1, 0], X[y==1, 1])\n",
        "plt.scatter(X[y==2, 0], X[y==2, 1])\n",
        "plt.scatter(X[y==3, 0], X[y==3, 1])\n",
        "plt.scatter(X[y==4, 0], X[y==4, 1])\n",
        " \n",
        "print(y)\n",
        "y_cat = to_categorical(y, 5)\n",
        "print(y_cat)\n",
        "model = Sequential()\n",
        "model.add(Dense(5, input_shape=(2,), activation='softmax'))\n",
        "model.compile(Adam(lr=0.1), 'categorical_crossentropy', metrics=['accuracy'])\n",
        "#one hot encode output\n",
        "history = model.fit(X, y_cat, verbose=1, batch_size = 50, epochs=100)\n",
        "def plot_multiclass_decision_boundary(X, y, model):\n",
        "    x_span = np.linspace(min(X[:,0]) - 1, max(X[:,0]) + 1)\n",
        "    y_span = np.linspace(min(X[:,1]) - 1, max(X[:,1]) + 1)\n",
        "    xx, yy = np.meshgrid(x_span, y_span)\n",
        "    grid = np.c_[xx.ravel(), yy.ravel()]\n",
        "    pred_func = model.predict_classes(grid)\n",
        "    z = pred_func.reshape(xx.shape)\n",
        "    plt.contourf(xx, yy, z)\n",
        "plot_multiclass_decision_boundary(X, y_cat, model)\n",
        "plt.scatter(X[y==0, 0], X[y==0, 1])\n",
        "plt.scatter(X[y==1, 0], X[y==1, 1])\n",
        "plt.scatter(X[y==2, 0], X[y==2, 1])\n",
        "plt.scatter(X[y==3, 0], X[y==3, 1])\n",
        "plt.scatter(X[y==4, 0], X[y==4, 1])\n",
        "plot_multiclass_decision_boundary(X, y_cat, model)\n",
        "plt.scatter(X[y==0, 0], X[y==0, 1])\n",
        "plt.scatter(X[y==1, 0], X[y==1, 1])\n",
        "plt.scatter(X[y==2, 0], X[y==2, 1])\n",
        "plt.scatter(X[y==3, 0], X[y==3, 1])\n",
        "plt.scatter(X[y==4, 0], X[y==4, 1])\n",
        " \n",
        "x = -0.5\n",
        "y = -0.5\n",
        " \n",
        "point = np.array([[x, y]])\n",
        "prediction = model.predict_classes(point)\n",
        "plt.plot([x], [y], marker='o', markersize=10, color=\"yellow\")\n",
        "print(\"Prediction is: \", prediction)\n"
      ],
      "execution_count": null,
      "outputs": []
    },
    {
      "cell_type": "code",
      "metadata": {
        "id": "Bi8qMcDtTurr",
        "colab_type": "code",
        "colab": {}
      },
      "source": [
        ""
      ],
      "execution_count": null,
      "outputs": []
    }
  ]
}